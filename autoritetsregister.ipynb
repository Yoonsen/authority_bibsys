{
 "cells": [
  {
   "cell_type": "code",
   "execution_count": 117,
   "metadata": {},
   "outputs": [],
   "source": [
    "import requests \n",
    "from bs4 import BeautifulSoup\n",
    "import sys\n",
    "import re\n",
    "\n",
    "\n",
    "def author_gender(person):\n",
    "    \"\"\" \n",
    "        Find five of the records matching input parameter person.\n",
    "        Return value is a 3-tuple with name in standard format, gender and life-span.\n",
    "        Only returns a value if the characters in person is a subset of the characters in a name found in bibsys.\n",
    "        assumes\n",
    "            import requests \n",
    "            from bs4 import BeautifulSoup\n",
    "            import sys\n",
    "            import re\n",
    "        input\n",
    "            person a string\n",
    "        output\n",
    "            (name string, gender char, birth-death as string)\n",
    "        \n",
    "    \"\"\"\n",
    "    # remove punctuation characters - appears to be a problem for bibsys or ...\n",
    "    person = re.sub('[^(\\w|\\s)]','', person)\n",
    "\n",
    "    #print(person)\n",
    "    \n",
    "    # set up request parameter string\n",
    "\n",
    "    req = \"https://authority.bibsys.no/authority/rest/sru?operation=searchRetrieve&query={author}&startRecord=1&maximumRecords=5&recordPacking=xml&recordSchema=marcxchange\" \n",
    "    \n",
    "    # res is the return value, will contain a list of tuples if anything.\n",
    "    res = []\n",
    "\n",
    "    # issue request\n",
    "    r = requests.get(req.format(author = person))\n",
    "\n",
    "    \n",
    "    # if everything is ok, go ahead and pick out the information\n",
    "    if r.status_code == 200:\n",
    "        # extract character symbols from person, used below to compare\n",
    "        person_char = set(person.lower())\n",
    "        #print(person_char)\n",
    "        \n",
    "        soup = BeautifulSoup(r.text, 'lxml')\n",
    "\n",
    "        #name recides in tag 100, gender in tag 375\n",
    "        # loop through all query matches\n",
    "        for n in soup.find_all(\"srw:recorddata\"):\n",
    "            \n",
    "            # initialise the components of the return tuple\n",
    "            name = \"\"\n",
    "            year = \"\"\n",
    "            gender = \"\"\n",
    "            \n",
    "            # then try to extract som useful information\n",
    "            namedata = n.find(\"marc:datafield\",{'tag':100})\n",
    "            if not namedata is None: \n",
    "                name_n = namedata.find(\"marc:subfield\", {'code':'a'})\n",
    "                if not name_n is None:\n",
    "                    name = name_n.text\n",
    "                year_n = namedata.find(\"marc:subfield\", {'code':'d'})\n",
    "                if not year_n is None:\n",
    "                    year = year_n.text\n",
    "\n",
    "            genderdata = n.find(\"marc:datafield\", {'tag':375})\n",
    "            if not genderdata is None:\n",
    "                gender_n = genderdata.find(\"marc:subfield\", {'code':'a'})\n",
    "                if not gender_n is None:\n",
    "                    gender = gender_n.text\n",
    "\n",
    "            # Pseudonyms and other names for person related to query can get returned - retain only those \n",
    "            # that match the query here implemented as a subset relation. \n",
    "            # Bibsys will not match ó to o for example. If it does, this has to be replace by\n",
    "            # some form of jaccard formula.\n",
    "\n",
    "            if person_char.issubset(set(name.lower())):\n",
    "                res.append((name, gender, year))\n",
    "            \n",
    "    return res\n",
    "\n",
    "\n",
    "#if __name__ == \"__main__\":\n",
    "#    author_gender(' '.join(x for x in sys.argv))"
   ]
  },
  {
   "cell_type": "code",
   "execution_count": 119,
   "metadata": {},
   "outputs": [
    {
     "data": {
      "text/plain": [
       "[('Ruiz Silva, Carlos', '', ''),\n",
       " ('Ruiz, Carlos', '', ''),\n",
       " ('Ruiz, Carlos Andres Agudelo', '', ''),\n",
       " ('Ruiz Zafón, Carlos', 'm', '1964-2020')]"
      ]
     },
     "execution_count": 119,
     "metadata": {},
     "output_type": "execute_result"
    }
   ],
   "source": [
    "author_gender('carlos ruiz')"
   ]
  }
 ],
 "metadata": {
  "kernelspec": {
   "display_name": "Python 3",
   "language": "python",
   "name": "python3"
  },
  "language_info": {
   "codemirror_mode": {
    "name": "ipython",
    "version": 3
   },
   "file_extension": ".py",
   "mimetype": "text/x-python",
   "name": "python",
   "nbconvert_exporter": "python",
   "pygments_lexer": "ipython3",
   "version": "3.8.3"
  }
 },
 "nbformat": 4,
 "nbformat_minor": 4
}
